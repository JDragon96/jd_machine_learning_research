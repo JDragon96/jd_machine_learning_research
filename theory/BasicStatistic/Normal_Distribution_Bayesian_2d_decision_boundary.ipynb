{
 "cells": [
  {
   "cell_type": "code",
   "execution_count": 10,
   "id": "81dd8efc",
   "metadata": {},
   "outputs": [],
   "source": [
    "import sys\n",
    "import os\n",
    "import numpy as np\n",
    "import matplotlib.pyplot as plt\n",
    "from matplotlib.lines import Line2D  \n",
    "\n",
    "sys.path.append(\"..\")\n",
    "import Distributions\n",
    "import Statistic"
   ]
  },
  {
   "cell_type": "code",
   "execution_count": 14,
   "id": "8cf7c8b9",
   "metadata": {},
   "outputs": [
    {
     "name": "stdout",
     "output_type": "stream",
     "text": [
      "[[2.66666667 0.        ]\n",
      " [0.         0.66666667]]\n",
      "[[0.66666667 0.        ]\n",
      " [0.         2.66666667]]\n"
     ]
    }
   ],
   "source": [
    "d1 = np.array([[1, 2], [3, 1], [5, 2], [3, 3]])\n",
    "d2 = np.array([[7, 6], [8, 4], [9, 6], [8, 8]])\n",
    "mu1 = np.mean(d1, axis=0)\n",
    "sigma1 = Statistic.getCovMatrix(d1, 2)\n",
    "mu2 = np.mean(d2, axis=0)\n",
    "sigma2 = Statistic.getCovMatrix(d2, 2)\n",
    "print(sigma1)\n",
    "print(sigma2)"
   ]
  },
  {
   "cell_type": "code",
   "execution_count": 44,
   "id": "12e199dd",
   "metadata": {},
   "outputs": [],
   "source": [
    "def decision_2D_boundary(data, m1, m2, sig1, sig2, w1, w2):\n",
    "    \"\"\"\n",
    "    data: [10, 20]\n",
    "    \"\"\"\n",
    "    data = np.array(data).reshape(2, 1)\n",
    "    sig1 = np.array(sig1)\n",
    "    sig2 = np.array(sig2)\n",
    "        \n",
    "    inv_sig1 = np.linalg.inv(sig1)\n",
    "    inv_sig2 = np.linalg.inv(sig2)\n",
    "    sig1_abs = sig1[0][0] * sig1[1][1] - sig1[1][0] * sig1[0][1]\n",
    "    sig2_abs = sig2[0][0] * sig2[1][1] - sig2[1][0] * sig2[0][1]\n",
    "    \n",
    "    # func\n",
    "    order2_1 = -0.5*inv_sig1\n",
    "    order2_2 = 0.5*inv_sig2\n",
    "    \n",
    "    order1_1 = m1 @ inv_sig1\n",
    "    order1_2 = m2 @ inv_sig2\n",
    "    \n",
    "    const_1 = -0.5*m1 @ inv_sig1 @ m1.T - 0.5 * np.log(sig1_abs) + np.log(w1)\n",
    "    const_1 = -0.5*m2 @ inv_sig2 @ m2.T - 0.5 * np.log(sig2_abs) + np.log(w2)\n",
    "    \n",
    "decision_2D_boundary([10, 20], mu1, mu2, sigma1, sigma2, 0.5, 0.5)"
   ]
  }
 ],
 "metadata": {
  "kernelspec": {
   "display_name": "Python 3 (ipykernel)",
   "language": "python",
   "name": "python3"
  },
  "language_info": {
   "codemirror_mode": {
    "name": "ipython",
    "version": 3
   },
   "file_extension": ".py",
   "mimetype": "text/x-python",
   "name": "python",
   "nbconvert_exporter": "python",
   "pygments_lexer": "ipython3",
   "version": "3.8.0"
  }
 },
 "nbformat": 4,
 "nbformat_minor": 5
}
