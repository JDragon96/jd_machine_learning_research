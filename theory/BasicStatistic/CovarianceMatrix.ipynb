{
 "cells": [
  {
   "cell_type": "code",
   "execution_count": 1,
   "id": "d0c60d0e",
   "metadata": {},
   "outputs": [],
   "source": [
    "import numpy as np"
   ]
  },
  {
   "cell_type": "markdown",
   "id": "e548d4d8",
   "metadata": {},
   "source": [
    "### 1. Covariance Matrix 계산"
   ]
  },
  {
   "cell_type": "code",
   "execution_count": 8,
   "id": "92328480",
   "metadata": {},
   "outputs": [],
   "source": [
    "a = np.array([[170, 60, 4.1],\n",
    "              [165, 55, 3.0],\n",
    "              [174, 75, 2.8],\n",
    "              [169, 67, 2.9],\n",
    "              [155, 49, 3.1],\n",
    "              [172, 63, 3.6],\n",
    "              [166, 58, 3.7],\n",
    "              [168, 61, 4.0]])\n",
    "\n",
    "m = np.mean(a, axis=0)\n",
    "a -= m"
   ]
  },
  {
   "cell_type": "code",
   "execution_count": 9,
   "id": "cc3c031a",
   "metadata": {},
   "outputs": [
    {
     "name": "stdout",
     "output_type": "stream",
     "text": [
      "[[33.69642857 39.42857143  0.37142857]\n",
      " [39.42857143 60.85714286 -0.94285714]\n",
      " [ 0.37142857 -0.94285714  0.26285714]]\n"
     ]
    }
   ],
   "source": [
    "print(a.T @ a / (len(a)-1))"
   ]
  },
  {
   "cell_type": "code",
   "execution_count": null,
   "id": "fb1f66ea",
   "metadata": {},
   "outputs": [],
   "source": []
  }
 ],
 "metadata": {
  "kernelspec": {
   "display_name": "Python 3 (ipykernel)",
   "language": "python",
   "name": "python3"
  },
  "language_info": {
   "codemirror_mode": {
    "name": "ipython",
    "version": 3
   },
   "file_extension": ".py",
   "mimetype": "text/x-python",
   "name": "python",
   "nbconvert_exporter": "python",
   "pygments_lexer": "ipython3",
   "version": "3.8.0"
  }
 },
 "nbformat": 4,
 "nbformat_minor": 5
}
